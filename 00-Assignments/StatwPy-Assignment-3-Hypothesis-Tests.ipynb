{
 "cells": [
  {
   "cell_type": "markdown",
   "id": "81ffa752",
   "metadata": {},
   "source": [
    "<p style=\"background-color:plum; color:floralwhite; font-size:200%; text-align:center; border-radius:10px 10px; font-family:newtimeroman; line-height: 1.4; font-weight:bold;\">Statistics with Python</p>\n",
    "\n",
    "<p style=\"background-color:romance; color:plum; font-size:150%; text-align:center; border-radius:10px 10px; font-family:newtimeroman; line-height: 1; font-weight:bold;\">ASSIGNMENT (HYPOTHESIS TESTS)</p>"
   ]
  },
  {
   "cell_type": "code",
   "execution_count": 63,
   "id": "8f7df870",
   "metadata": {},
   "outputs": [],
   "source": [
    "import numpy as np\n",
    "import pandas as pd\n",
    "import matplotlib.pyplot as plt\n",
    "import seaborn as sns\n",
    "\n",
    "# Statistics functions\n",
    "from scipy import stats\n",
    "from scipy.stats import norm\n",
    "import statistics as st\n",
    "\n",
    "import warnings\n",
    "# Suppressing a warning \n",
    "warnings.filterwarnings(\"ignore\") \n",
    "warnings.warn(\"this will not show\")"
   ]
  },
  {
   "cell_type": "markdown",
   "id": "be652034",
   "metadata": {},
   "source": [
    "<p>\n",
    "    <img src='https://i.ibb.co/FWvxFXv/x-Population-Samples-Notation.png' alt='Notation' width=500 style='display: inline-block;'>\n",
    "    <img src='https://i.ibb.co/VvmXtf5/CI-Estimation.png' alt='ci-limit' width=300 style='display: inline-block;'>\n",
    "    <img src='https://i.ibb.co/J28SJB0/CI-Commonly-Levels.png' alt='z-value' width=400 style='display: inline-block;'>\n",
    "    <img src='https://i.ibb.co/R72p9p1/CI-t-distribution.png' alt='t-value' width=400 style='display: inline-block;'>\n",
    "</p>"
   ]
  },
  {
   "cell_type": "markdown",
   "id": "a2c35ace",
   "metadata": {},
   "source": [
    "## EXERCISE 1\n",
    "\n",
    "The hourly wages in a particular industry are normally distributed with mean \\\\$13.20 and standard deviation \\\\$2.50. A company in this industry employs 40 workers, paying them an average of \\\\$12.20 per hour. Can this company be accused of paying substandard wages? Use an α = .01 level test. (Wackerly, Ex.10.18)\n",
    "\n",
    "CHECK: statistic: -2.5298221281347035, pvalue= 0.005706018193000826"
   ]
  },
  {
   "cell_type": "code",
   "execution_count": 64,
   "id": "9d55ffb8",
   "metadata": {},
   "outputs": [],
   "source": [
    "xbar   = 12.20   # sample mean = np.mean(sample)\n",
    "sigma  = 2.50    # population standard deviation\n",
    "n      = 40      # random sample size n = len(sample)\n",
    "mu     = 13.20   # population mean"
   ]
  },
  {
   "cell_type": "markdown",
   "id": "a533e50d",
   "metadata": {},
   "source": [
    "Can this company be accused of paying substandard wages?\n",
    "- H0: mu = 13.20\n",
    "- H1: mu < 13.20"
   ]
  },
  {
   "cell_type": "code",
   "execution_count": 65,
   "id": "f364b925",
   "metadata": {},
   "outputs": [
    {
     "data": {
      "text/plain": [
       "0.3952847075210474"
      ]
     },
     "execution_count": 65,
     "metadata": {},
     "output_type": "execute_result"
    }
   ],
   "source": [
    "sem = sigma / np.sqrt(n)   # standard error of the mean\n",
    "sem"
   ]
  },
  {
   "cell_type": "code",
   "execution_count": 66,
   "id": "965fac78",
   "metadata": {},
   "outputs": [
    {
     "data": {
      "text/plain": [
       "-2.5298221281347035"
      ]
     },
     "execution_count": 66,
     "metadata": {},
     "output_type": "execute_result"
    }
   ],
   "source": [
    "#compute test statistic\n",
    "# z = (xbar-mu) / (sigma/np.sqrt(n))\n",
    "z = (xbar-mu) / (sem)\n",
    "z"
   ]
  },
  {
   "cell_type": "code",
   "execution_count": 67,
   "id": "6715852e",
   "metadata": {},
   "outputs": [
    {
     "data": {
      "text/plain": [
       "0.01"
      ]
     },
     "execution_count": 67,
     "metadata": {},
     "output_type": "execute_result"
    }
   ],
   "source": [
    "#set alpha\n",
    "\n",
    "# 99% confidence interval\n",
    "# alpha = 1-CI = 1-0.99\n",
    "alpha = 0.01\n",
    "alpha"
   ]
  },
  {
   "cell_type": "code",
   "execution_count": 68,
   "id": "05a66b74",
   "metadata": {},
   "outputs": [
    {
     "data": {
      "text/plain": [
       "0.005706018193000872"
      ]
     },
     "execution_count": 68,
     "metadata": {},
     "output_type": "execute_result"
    }
   ],
   "source": [
    "# p_value = 1 - norm.cdf(z) gives wrong value\n",
    "p_value = 1 - norm.cdf(np.abs(z))\n",
    "p_value"
   ]
  },
  {
   "cell_type": "code",
   "execution_count": 69,
   "id": "087aaec6",
   "metadata": {},
   "outputs": [
    {
     "data": {
      "text/plain": [
       "2.5758293035489004"
      ]
     },
     "execution_count": 69,
     "metadata": {},
     "output_type": "execute_result"
    }
   ],
   "source": [
    "#calculate the z_a/2, by using percent point function of the norm of scipy\n",
    "#ppf = percent point function, inverse of CDF(comulative distribution function)\n",
    "#also, CDF = pr(X<=x), i.e., probability to the left of the distribution\n",
    "#this returns a value for which the probab to the left is 0.975\n",
    "\n",
    "#The .ppf() function calculates the probability for a given normal distribution value,\n",
    "#while the .cdf() function calculates the normal distribution value for which a given probability is the required value.\n",
    "#These are inverse of each other in this particular sense.\n",
    "\n",
    "# z_(alpha/2) = 1.645\n",
    "z_critical = norm.ppf(1-alpha/2)  \n",
    "z_critical"
   ]
  },
  {
   "cell_type": "code",
   "execution_count": 70,
   "id": "0635b127",
   "metadata": {},
   "outputs": [
    {
     "name": "stdout",
     "output_type": "stream",
     "text": [
      "mean : 12.2\n",
      "z :  -2.5298221281347035\n",
      "z_critical : 2.5758293035489004 \n",
      "\n",
      "REJECT THE NULL HYPOTHESIS : \n",
      " p-value =  0.005706018193000872 \n",
      " Alpha =  0.01\n",
      "\n",
      "REJECT THE NULL HYPOTHESIS : \n",
      " p-value =  0.005706018193000872 \n",
      " Alpha =  0.01\n"
     ]
    }
   ],
   "source": [
    "print('mean :', xbar)\n",
    "print('z : ',z)\n",
    "print('z_critical :', z_critical, '\\n')\n",
    "\n",
    "#test the hypothesis\n",
    "if p_value < alpha:\n",
    "    print(\"REJECT THE NULL HYPOTHESIS : \\n p-value = \", p_value, \"\\n Alpha = \", alpha)\n",
    "else:\n",
    "    print(\"FAIL TO REJECT THE NULL HYPOTHESIS. NOT ENOUGH EVIDENCE TO REJECT IT: \\n p-value = \", p_value, \"\\n Alpha = \", alpha)\n",
    "    \n",
    "print()  \n",
    "\n",
    "#test the hypothesis\n",
    "if z < z_critical:\n",
    "    print(\"REJECT THE NULL HYPOTHESIS : \\n p-value = \", p_value, \"\\n Alpha = \", alpha)\n",
    "else:\n",
    "    print(\"FAIL TO REJECT THE NULL HYPOTHESIS. NOT ENOUGH EVIDENCE TO REJECT IT: \\n p-value = \", p_value, \"\\n Alpha = \", alpha)"
   ]
  },
  {
   "cell_type": "code",
   "execution_count": 71,
   "id": "775848f7",
   "metadata": {},
   "outputs": [
    {
     "data": {
      "text/plain": [
       "(12.195045711171279, 12.20495428882872)"
      ]
     },
     "execution_count": 71,
     "metadata": {},
     "output_type": "execute_result"
    }
   ],
   "source": [
    "stats.norm.interval(\n",
    "    alpha=0.01,      #confidence level\n",
    "    loc=xbar,        #sample mean\n",
    "    scale=sem        #standard error of the mean\n",
    ")"
   ]
  },
  {
   "cell_type": "code",
   "execution_count": 72,
   "id": "365138ee",
   "metadata": {},
   "outputs": [
    {
     "data": {
      "text/plain": [
       "(11.181814067122529, 13.21818593287747)"
      ]
     },
     "execution_count": 72,
     "metadata": {},
     "output_type": "execute_result"
    }
   ],
   "source": [
    "# General Formula Confidence Intervals\n",
    "# Point Estimate +_ (Critical Value)*(Standard Error)\n",
    "moe = z_critical * sem\n",
    "lower = xbar - moe\n",
    "upper = xbar + moe\n",
    "\n",
    "lower, upper"
   ]
  },
  {
   "cell_type": "code",
   "execution_count": 73,
   "id": "3797d004",
   "metadata": {},
   "outputs": [
    {
     "data": {
      "image/png": "[encoded data removed]",
      "text/plain": [
       "<Figure size 432x288 with 1 Axes>"
      ]
     },
     "metadata": {
      "needs_background": "light"
     },
     "output_type": "display_data"
    }
   ],
   "source": [
    "plt.plot((lower,upper), (1, 1), 'ro-',color='red')\n",
    "plt.yticks(range(1),[\"CI 95%\"]);"
   ]
  },
  {
   "cell_type": "markdown",
   "id": "75ce0c8e",
   "metadata": {},
   "source": [
    "## EXERCISE 2\n",
    "Shear strength measurements derived from unconfined compression tests for two types of soils gave the results shown in the following document (measurements in tons per square foot). Do the soils appear to differ with respect to average shear strength, at the 1% significance level?\n",
    "\n",
    "[Results for two type of soils](https://docs.google.com/spreadsheets/d/1f2odmgDboIVuSV-A5gmuC25ppqQ5g1OIIF4h5EOqUcI/edit#gid=0)\n",
    "\n",
    "CHECK: statistic: 5.1681473319343345, pvalue= 2.593228732352821e-06"
   ]
  },
  {
   "cell_type": "code",
   "execution_count": 74,
   "id": "82bb1cdf",
   "metadata": {},
   "outputs": [
    {
     "name": "stdout",
     "output_type": "stream",
     "text": [
      "[1.442 1.943 1.11  1.912 1.553 1.641 1.499 1.347 1.685 1.578 1.866 1.653\n",
      " 1.665 1.64  1.976 1.754 1.589 1.976 1.863 1.932 1.57  1.613 2.054 1.55\n",
      " 1.714 1.896 1.737 1.74  1.708 1.548]\n",
      "\n",
      "[1.364 1.878 1.337 1.828 1.371 1.428 1.119 1.373 1.589 1.714 1.26  1.492\n",
      " 1.395 1.778 1.611 1.202 1.542 1.094 1.557 1.053 1.183 1.367 1.144 1.151\n",
      " 1.561 1.192 1.489 1.379 1.501 1.277 1.593 1.172 1.51  1.74  1.355]\n"
     ]
    }
   ],
   "source": [
    "Soil1 = np.array([1.442, 1.943, 1.11, 1.912, 1.553, 1.641, 1.499, 1.347, 1.685, 1.578, 1.866, 1.653, 1.665, 1.64, 1.976, \n",
    "                  1.754, 1.589, 1.976, 1.863, 1.932, 1.57, 1.613, 2.054, 1.55, 1.714, 1.896, 1.737, 1.74, 1.708, 1.548])\n",
    "\n",
    "Soil2 = np.array([1.364, 1.878, 1.337, 1.828, 1.371, 1.428, 1.119, 1.373, 1.589, 1.714, 1.26, 1.492, 1.395, 1.778, 1.611, \n",
    "                  1.202, 1.542, 1.094, 1.557, 1.053, 1.183, 1.367, 1.144, 1.151, 1.561, 1.192, 1.489, 1.379, 1.501, 1.277, \n",
    "                  1.593, 1.172, 1.51, 1.74, 1.355])\n",
    "\n",
    "print(Soil1, Soil2, sep='\\n\\n')"
   ]
  },
  {
   "cell_type": "code",
   "execution_count": 75,
   "id": "e71e5e95",
   "metadata": {},
   "outputs": [
    {
     "data": {
      "text/html": [
       "<div>\n",
       "<style scoped>\n",
       "    .dataframe tbody tr th:only-of-type {\n",
       "        vertical-align: middle;\n",
       "    }\n",
       "\n",
       "    .dataframe tbody tr th {\n",
       "        vertical-align: top;\n",
       "    }\n",
       "\n",
       "    .dataframe thead th {\n",
       "        text-align: right;\n",
       "    }\n",
       "</style>\n",
       "<table border=\"1\" class=\"dataframe\">\n",
       "  <thead>\n",
       "    <tr style=\"text-align: right;\">\n",
       "      <th></th>\n",
       "      <th>Soil1</th>\n",
       "      <th>Soil2</th>\n",
       "    </tr>\n",
       "  </thead>\n",
       "  <tbody>\n",
       "    <tr>\n",
       "      <th>0</th>\n",
       "      <td>1.442</td>\n",
       "      <td>1.364</td>\n",
       "    </tr>\n",
       "    <tr>\n",
       "      <th>1</th>\n",
       "      <td>1.943</td>\n",
       "      <td>1.878</td>\n",
       "    </tr>\n",
       "    <tr>\n",
       "      <th>2</th>\n",
       "      <td>1.110</td>\n",
       "      <td>1.337</td>\n",
       "    </tr>\n",
       "    <tr>\n",
       "      <th>3</th>\n",
       "      <td>1.912</td>\n",
       "      <td>1.828</td>\n",
       "    </tr>\n",
       "    <tr>\n",
       "      <th>4</th>\n",
       "      <td>1.553</td>\n",
       "      <td>1.371</td>\n",
       "    </tr>\n",
       "  </tbody>\n",
       "</table>\n",
       "</div>"
      ],
      "text/plain": [
       "   Soil1  Soil2\n",
       "0  1.442  1.364\n",
       "1  1.943  1.878\n",
       "2  1.110  1.337\n",
       "3  1.912  1.828\n",
       "4  1.553  1.371"
      ]
     },
     "execution_count": 75,
     "metadata": {},
     "output_type": "execute_result"
    }
   ],
   "source": [
    "df = pd.read_csv(\"soil - Sheet1.csv\")\n",
    "df.head()"
   ]
  },
  {
   "cell_type": "code",
   "execution_count": 76,
   "id": "e2b3fb33",
   "metadata": {},
   "outputs": [
    {
     "data": {
      "text/plain": [
       "(1.6918, 1.4171142857142855)"
      ]
     },
     "execution_count": 76,
     "metadata": {},
     "output_type": "execute_result"
    }
   ],
   "source": [
    "df.Soil1.mean(), df.Soil2.mean()"
   ]
  },
  {
   "cell_type": "code",
   "execution_count": 77,
   "id": "1d0c2358",
   "metadata": {},
   "outputs": [
    {
     "data": {
      "text/plain": [
       "Ttest_indResult(statistic=5.1681473319343345, pvalue=2.593228732352821e-06)"
      ]
     },
     "execution_count": 77,
     "metadata": {},
     "output_type": "execute_result"
    }
   ],
   "source": [
    "indTest = stats.ttest_ind(Soil1, Soil2, equal_var=True, alternative='two-sided')\n",
    "indTest"
   ]
  },
  {
   "cell_type": "code",
   "execution_count": 78,
   "id": "68f22b59",
   "metadata": {},
   "outputs": [
    {
     "data": {
      "text/plain": [
       "Ttest_indResult(statistic=5.1681473319343345, pvalue=2.593228732352821e-06)"
      ]
     },
     "execution_count": 78,
     "metadata": {},
     "output_type": "execute_result"
    }
   ],
   "source": [
    "indTest = stats.ttest_ind(df.Soil1.dropna(), df.Soil2, equal_var=True, alternative='two-sided')\n",
    "indTest"
   ]
  },
  {
   "cell_type": "code",
   "execution_count": 79,
   "id": "31dd14ed",
   "metadata": {},
   "outputs": [
    {
     "data": {
      "text/plain": [
       "(5.1681473319343345, 2.593228732352821e-06)"
      ]
     },
     "execution_count": 79,
     "metadata": {},
     "output_type": "execute_result"
    }
   ],
   "source": [
    "indTest.statistic, indTest.pvalue"
   ]
  },
  {
   "cell_type": "code",
   "execution_count": 80,
   "id": "ac0efb13",
   "metadata": {},
   "outputs": [
    {
     "name": "stdout",
     "output_type": "stream",
     "text": [
      "Reject the null\n"
     ]
    }
   ],
   "source": [
    "alpha = 0.01\n",
    "\n",
    "if indTest.pvalue < alpha:\n",
    "    print(\"Reject the null\")\n",
    "else:\n",
    "    print(\"fail to reject the null\")"
   ]
  },
  {
   "cell_type": "markdown",
   "id": "b8f9f0d5",
   "metadata": {},
   "source": [
    "## EXERCISE 3\n",
    "The following dataset is based on data provided by the World Bank (https://datacatalog.worldbank.org/dataset/education-statistics). World Bank Edstats. [2015 PISA Test Dataset](https://docs.google.com/spreadsheets/d/14rVnIUfEm3CuK9bSvS5253RHWzQhXOuNc0I-cCkgpR8/edit?usp=sharing)\n",
    "\n",
    "01. Get descriptive statistics (the central tendency, dispersion and shape of a dataset’s distribution) for each continent group (AS, EU, AF, NA, SA, OC).\n",
    "02. Determine whether there is any difference (on the average) for the math scores among European (EU) and Asian (AS) countries (assume normality and equal variances). Draw side-by-side box plots.\n",
    "\n",
    "CHECK: statistic=0.870055317967983, pvalue=0.38826888111307345"
   ]
  },
  {
   "cell_type": "code",
   "execution_count": 81,
   "id": "ed23ee85",
   "metadata": {},
   "outputs": [
    {
     "data": {
      "text/html": [
       "<div>\n",
       "<style scoped>\n",
       "    .dataframe tbody tr th:only-of-type {\n",
       "        vertical-align: middle;\n",
       "    }\n",
       "\n",
       "    .dataframe tbody tr th {\n",
       "        vertical-align: top;\n",
       "    }\n",
       "\n",
       "    .dataframe thead th {\n",
       "        text-align: right;\n",
       "    }\n",
       "</style>\n",
       "<table border=\"1\" class=\"dataframe\">\n",
       "  <thead>\n",
       "    <tr style=\"text-align: right;\">\n",
       "      <th></th>\n",
       "      <th>Country Code</th>\n",
       "      <th>Continent_Code</th>\n",
       "      <th>internet_users_per_100</th>\n",
       "      <th>Math</th>\n",
       "      <th>Reading</th>\n",
       "      <th>Science</th>\n",
       "    </tr>\n",
       "  </thead>\n",
       "  <tbody>\n",
       "    <tr>\n",
       "      <th>0</th>\n",
       "      <td>ALB</td>\n",
       "      <td>EU</td>\n",
       "      <td>63.252933</td>\n",
       "      <td>413.1570</td>\n",
       "      <td>405.2588</td>\n",
       "      <td>427.2250</td>\n",
       "    </tr>\n",
       "    <tr>\n",
       "      <th>1</th>\n",
       "      <td>ARE</td>\n",
       "      <td>AS</td>\n",
       "      <td>90.500000</td>\n",
       "      <td>427.4827</td>\n",
       "      <td>433.5423</td>\n",
       "      <td>436.7311</td>\n",
       "    </tr>\n",
       "    <tr>\n",
       "      <th>2</th>\n",
       "      <td>ARG</td>\n",
       "      <td>SA</td>\n",
       "      <td>68.043064</td>\n",
       "      <td>409.0333</td>\n",
       "      <td>425.3031</td>\n",
       "      <td>432.2262</td>\n",
       "    </tr>\n",
       "    <tr>\n",
       "      <th>3</th>\n",
       "      <td>AUS</td>\n",
       "      <td>OC</td>\n",
       "      <td>84.560519</td>\n",
       "      <td>493.8962</td>\n",
       "      <td>502.9006</td>\n",
       "      <td>509.9939</td>\n",
       "    </tr>\n",
       "    <tr>\n",
       "      <th>4</th>\n",
       "      <td>AUT</td>\n",
       "      <td>EU</td>\n",
       "      <td>83.940142</td>\n",
       "      <td>496.7423</td>\n",
       "      <td>484.8656</td>\n",
       "      <td>495.0375</td>\n",
       "    </tr>\n",
       "  </tbody>\n",
       "</table>\n",
       "</div>"
      ],
      "text/plain": [
       "  Country Code Continent_Code  internet_users_per_100      Math   Reading  \\\n",
       "0          ALB             EU               63.252933  413.1570  405.2588   \n",
       "1          ARE             AS               90.500000  427.4827  433.5423   \n",
       "2          ARG             SA               68.043064  409.0333  425.3031   \n",
       "3          AUS             OC               84.560519  493.8962  502.9006   \n",
       "4          AUT             EU               83.940142  496.7423  484.8656   \n",
       "\n",
       "    Science  \n",
       "0  427.2250  \n",
       "1  436.7311  \n",
       "2  432.2262  \n",
       "3  509.9939  \n",
       "4  495.0375  "
      ]
     },
     "execution_count": 81,
     "metadata": {},
     "output_type": "execute_result"
    }
   ],
   "source": [
    "df = pd.read_csv(\"2015 PISA Test.csv\")\n",
    "df.head()"
   ]
  },
  {
   "cell_type": "markdown",
   "id": "5b80944c",
   "metadata": {},
   "source": [
    "### Get descriptive statistics"
   ]
  },
  {
   "cell_type": "code",
   "execution_count": 82,
   "id": "d02e3b2b",
   "metadata": {},
   "outputs": [
    {
     "data": {
      "text/html": [
       "<div>\n",
       "<style scoped>\n",
       "    .dataframe tbody tr th:only-of-type {\n",
       "        vertical-align: middle;\n",
       "    }\n",
       "\n",
       "    .dataframe tbody tr th {\n",
       "        vertical-align: top;\n",
       "    }\n",
       "\n",
       "    .dataframe thead th {\n",
       "        text-align: right;\n",
       "    }\n",
       "</style>\n",
       "<table border=\"1\" class=\"dataframe\">\n",
       "  <thead>\n",
       "    <tr style=\"text-align: right;\">\n",
       "      <th></th>\n",
       "      <th>Continent_Code</th>\n",
       "      <th>AF</th>\n",
       "      <th>AS</th>\n",
       "      <th>EU</th>\n",
       "      <th>OC</th>\n",
       "      <th>SA</th>\n",
       "    </tr>\n",
       "  </thead>\n",
       "  <tbody>\n",
       "    <tr>\n",
       "      <th rowspan=\"8\" valign=\"top\">internet_users_per_100</th>\n",
       "      <th>count</th>\n",
       "      <td>2.000000</td>\n",
       "      <td>17.000000</td>\n",
       "      <td>37.000000</td>\n",
       "      <td>2.000000</td>\n",
       "      <td>7.000000</td>\n",
       "    </tr>\n",
       "    <tr>\n",
       "      <th>mean</th>\n",
       "      <td>43.359918</td>\n",
       "      <td>68.455613</td>\n",
       "      <td>77.274888</td>\n",
       "      <td>86.391704</td>\n",
       "      <td>60.180494</td>\n",
       "    </tr>\n",
       "    <tr>\n",
       "      <th>std</th>\n",
       "      <td>7.297226</td>\n",
       "      <td>21.086060</td>\n",
       "      <td>12.425773</td>\n",
       "      <td>2.589686</td>\n",
       "      <td>9.772455</td>\n",
       "    </tr>\n",
       "    <tr>\n",
       "      <th>min</th>\n",
       "      <td>38.200000</td>\n",
       "      <td>21.976068</td>\n",
       "      <td>53.744979</td>\n",
       "      <td>84.560519</td>\n",
       "      <td>40.900000</td>\n",
       "    </tr>\n",
       "    <tr>\n",
       "      <th>25%</th>\n",
       "      <td>40.779959</td>\n",
       "      <td>50.300000</td>\n",
       "      <td>68.632900</td>\n",
       "      <td>85.476112</td>\n",
       "      <td>57.116462</td>\n",
       "    </tr>\n",
       "    <tr>\n",
       "      <th>50%</th>\n",
       "      <td>43.359918</td>\n",
       "      <td>74.000000</td>\n",
       "      <td>76.184000</td>\n",
       "      <td>86.391704</td>\n",
       "      <td>64.289000</td>\n",
       "    </tr>\n",
       "    <tr>\n",
       "      <th>75%</th>\n",
       "      <td>45.939877</td>\n",
       "      <td>84.948353</td>\n",
       "      <td>87.479056</td>\n",
       "      <td>87.307296</td>\n",
       "      <td>66.321532</td>\n",
       "    </tr>\n",
       "    <tr>\n",
       "      <th>max</th>\n",
       "      <td>48.519836</td>\n",
       "      <td>92.884826</td>\n",
       "      <td>98.200000</td>\n",
       "      <td>88.222889</td>\n",
       "      <td>69.198471</td>\n",
       "    </tr>\n",
       "    <tr>\n",
       "      <th rowspan=\"8\" valign=\"top\">Math</th>\n",
       "      <th>count</th>\n",
       "      <td>2.000000</td>\n",
       "      <td>17.000000</td>\n",
       "      <td>37.000000</td>\n",
       "      <td>2.000000</td>\n",
       "      <td>7.000000</td>\n",
       "    </tr>\n",
       "    <tr>\n",
       "      <th>mean</th>\n",
       "      <td>363.212100</td>\n",
       "      <td>466.216647</td>\n",
       "      <td>477.981449</td>\n",
       "      <td>494.559750</td>\n",
       "      <td>402.887700</td>\n",
       "    </tr>\n",
       "    <tr>\n",
       "      <th>std</th>\n",
       "      <td>5.099513</td>\n",
       "      <td>64.356490</td>\n",
       "      <td>35.150403</td>\n",
       "      <td>0.938401</td>\n",
       "      <td>18.128894</td>\n",
       "    </tr>\n",
       "    <tr>\n",
       "      <th>min</th>\n",
       "      <td>359.606200</td>\n",
       "      <td>380.259000</td>\n",
       "      <td>371.311400</td>\n",
       "      <td>493.896200</td>\n",
       "      <td>377.069500</td>\n",
       "    </tr>\n",
       "    <tr>\n",
       "      <th>25%</th>\n",
       "      <td>361.409150</td>\n",
       "      <td>403.833200</td>\n",
       "      <td>464.040100</td>\n",
       "      <td>494.227975</td>\n",
       "      <td>388.102200</td>\n",
       "    </tr>\n",
       "    <tr>\n",
       "      <th>50%</th>\n",
       "      <td>363.212100</td>\n",
       "      <td>459.816000</td>\n",
       "      <td>489.728700</td>\n",
       "      <td>494.559750</td>\n",
       "      <td>409.033300</td>\n",
       "    </tr>\n",
       "    <tr>\n",
       "      <th>75%</th>\n",
       "      <td>365.015050</td>\n",
       "      <td>531.296100</td>\n",
       "      <td>503.722000</td>\n",
       "      <td>494.891525</td>\n",
       "      <td>417.617650</td>\n",
       "    </tr>\n",
       "    <tr>\n",
       "      <th>max</th>\n",
       "      <td>366.818000</td>\n",
       "      <td>564.189700</td>\n",
       "      <td>521.250600</td>\n",
       "      <td>495.223300</td>\n",
       "      <td>422.671400</td>\n",
       "    </tr>\n",
       "    <tr>\n",
       "      <th rowspan=\"8\" valign=\"top\">Reading</th>\n",
       "      <th>count</th>\n",
       "      <td>2.000000</td>\n",
       "      <td>17.000000</td>\n",
       "      <td>37.000000</td>\n",
       "      <td>2.000000</td>\n",
       "      <td>7.000000</td>\n",
       "    </tr>\n",
       "    <tr>\n",
       "      <th>mean</th>\n",
       "      <td>355.457400</td>\n",
       "      <td>454.059682</td>\n",
       "      <td>476.164608</td>\n",
       "      <td>506.085650</td>\n",
       "      <td>425.359229</td>\n",
       "    </tr>\n",
       "    <tr>\n",
       "      <th>std</th>\n",
       "      <td>7.916909</td>\n",
       "      <td>57.048962</td>\n",
       "      <td>37.720545</td>\n",
       "      <td>4.504341</td>\n",
       "      <td>19.709688</td>\n",
       "    </tr>\n",
       "    <tr>\n",
       "      <th>min</th>\n",
       "      <td>349.859300</td>\n",
       "      <td>346.549000</td>\n",
       "      <td>351.741500</td>\n",
       "      <td>502.900600</td>\n",
       "      <td>397.541400</td>\n",
       "    </tr>\n",
       "    <tr>\n",
       "      <th>25%</th>\n",
       "      <td>352.658350</td>\n",
       "      <td>408.102200</td>\n",
       "      <td>452.514300</td>\n",
       "      <td>504.493125</td>\n",
       "      <td>416.126900</td>\n",
       "    </tr>\n",
       "    <tr>\n",
       "      <th>50%</th>\n",
       "      <td>355.457400</td>\n",
       "      <td>433.542300</td>\n",
       "      <td>487.250100</td>\n",
       "      <td>506.085650</td>\n",
       "      <td>425.303100</td>\n",
       "    </tr>\n",
       "    <tr>\n",
       "      <th>75%</th>\n",
       "      <td>358.256450</td>\n",
       "      <td>508.690500</td>\n",
       "      <td>499.814600</td>\n",
       "      <td>507.678175</td>\n",
       "      <td>431.922700</td>\n",
       "    </tr>\n",
       "    <tr>\n",
       "      <th>max</th>\n",
       "      <td>361.055500</td>\n",
       "      <td>535.100200</td>\n",
       "      <td>526.424700</td>\n",
       "      <td>509.270700</td>\n",
       "      <td>458.570900</td>\n",
       "    </tr>\n",
       "    <tr>\n",
       "      <th rowspan=\"8\" valign=\"top\">Science</th>\n",
       "      <th>count</th>\n",
       "      <td>2.000000</td>\n",
       "      <td>17.000000</td>\n",
       "      <td>37.000000</td>\n",
       "      <td>2.000000</td>\n",
       "      <td>7.000000</td>\n",
       "    </tr>\n",
       "    <tr>\n",
       "      <th>mean</th>\n",
       "      <td>381.074250</td>\n",
       "      <td>467.945847</td>\n",
       "      <td>478.299381</td>\n",
       "      <td>511.648700</td>\n",
       "      <td>421.747186</td>\n",
       "    </tr>\n",
       "    <tr>\n",
       "      <th>std</th>\n",
       "      <td>7.536556</td>\n",
       "      <td>56.671371</td>\n",
       "      <td>34.450616</td>\n",
       "      <td>2.340241</td>\n",
       "      <td>18.470319</td>\n",
       "    </tr>\n",
       "    <tr>\n",
       "      <th>min</th>\n",
       "      <td>375.745100</td>\n",
       "      <td>386.485400</td>\n",
       "      <td>383.682400</td>\n",
       "      <td>509.993900</td>\n",
       "      <td>396.683600</td>\n",
       "    </tr>\n",
       "    <tr>\n",
       "      <th>25%</th>\n",
       "      <td>378.409675</td>\n",
       "      <td>417.611200</td>\n",
       "      <td>460.774900</td>\n",
       "      <td>510.821300</td>\n",
       "      <td>408.205450</td>\n",
       "    </tr>\n",
       "    <tr>\n",
       "      <th>50%</th>\n",
       "      <td>381.074250</td>\n",
       "      <td>456.483600</td>\n",
       "      <td>490.225000</td>\n",
       "      <td>511.648700</td>\n",
       "      <td>424.590500</td>\n",
       "    </tr>\n",
       "    <tr>\n",
       "      <th>75%</th>\n",
       "      <td>383.738825</td>\n",
       "      <td>523.277400</td>\n",
       "      <td>501.936900</td>\n",
       "      <td>512.476100</td>\n",
       "      <td>433.794600</td>\n",
       "    </tr>\n",
       "    <tr>\n",
       "      <th>max</th>\n",
       "      <td>386.403400</td>\n",
       "      <td>555.574700</td>\n",
       "      <td>534.193700</td>\n",
       "      <td>513.303500</td>\n",
       "      <td>446.956100</td>\n",
       "    </tr>\n",
       "  </tbody>\n",
       "</table>\n",
       "</div>"
      ],
      "text/plain": [
       "Continent_Code                        AF          AS          EU          OC  \\\n",
       "internet_users_per_100 count    2.000000   17.000000   37.000000    2.000000   \n",
       "                       mean    43.359918   68.455613   77.274888   86.391704   \n",
       "                       std      7.297226   21.086060   12.425773    2.589686   \n",
       "                       min     38.200000   21.976068   53.744979   84.560519   \n",
       "                       25%     40.779959   50.300000   68.632900   85.476112   \n",
       "                       50%     43.359918   74.000000   76.184000   86.391704   \n",
       "                       75%     45.939877   84.948353   87.479056   87.307296   \n",
       "                       max     48.519836   92.884826   98.200000   88.222889   \n",
       "Math                   count    2.000000   17.000000   37.000000    2.000000   \n",
       "                       mean   363.212100  466.216647  477.981449  494.559750   \n",
       "                       std      5.099513   64.356490   35.150403    0.938401   \n",
       "                       min    359.606200  380.259000  371.311400  493.896200   \n",
       "                       25%    361.409150  403.833200  464.040100  494.227975   \n",
       "                       50%    363.212100  459.816000  489.728700  494.559750   \n",
       "                       75%    365.015050  531.296100  503.722000  494.891525   \n",
       "                       max    366.818000  564.189700  521.250600  495.223300   \n",
       "Reading                count    2.000000   17.000000   37.000000    2.000000   \n",
       "                       mean   355.457400  454.059682  476.164608  506.085650   \n",
       "                       std      7.916909   57.048962   37.720545    4.504341   \n",
       "                       min    349.859300  346.549000  351.741500  502.900600   \n",
       "                       25%    352.658350  408.102200  452.514300  504.493125   \n",
       "                       50%    355.457400  433.542300  487.250100  506.085650   \n",
       "                       75%    358.256450  508.690500  499.814600  507.678175   \n",
       "                       max    361.055500  535.100200  526.424700  509.270700   \n",
       "Science                count    2.000000   17.000000   37.000000    2.000000   \n",
       "                       mean   381.074250  467.945847  478.299381  511.648700   \n",
       "                       std      7.536556   56.671371   34.450616    2.340241   \n",
       "                       min    375.745100  386.485400  383.682400  509.993900   \n",
       "                       25%    378.409675  417.611200  460.774900  510.821300   \n",
       "                       50%    381.074250  456.483600  490.225000  511.648700   \n",
       "                       75%    383.738825  523.277400  501.936900  512.476100   \n",
       "                       max    386.403400  555.574700  534.193700  513.303500   \n",
       "\n",
       "Continent_Code                        SA  \n",
       "internet_users_per_100 count    7.000000  \n",
       "                       mean    60.180494  \n",
       "                       std      9.772455  \n",
       "                       min     40.900000  \n",
       "                       25%     57.116462  \n",
       "                       50%     64.289000  \n",
       "                       75%     66.321532  \n",
       "                       max     69.198471  \n",
       "Math                   count    7.000000  \n",
       "                       mean   402.887700  \n",
       "                       std     18.128894  \n",
       "                       min    377.069500  \n",
       "                       25%    388.102200  \n",
       "                       50%    409.033300  \n",
       "                       75%    417.617650  \n",
       "                       max    422.671400  \n",
       "Reading                count    7.000000  \n",
       "                       mean   425.359229  \n",
       "                       std     19.709688  \n",
       "                       min    397.541400  \n",
       "                       25%    416.126900  \n",
       "                       50%    425.303100  \n",
       "                       75%    431.922700  \n",
       "                       max    458.570900  \n",
       "Science                count    7.000000  \n",
       "                       mean   421.747186  \n",
       "                       std     18.470319  \n",
       "                       min    396.683600  \n",
       "                       25%    408.205450  \n",
       "                       50%    424.590500  \n",
       "                       75%    433.794600  \n",
       "                       max    446.956100  "
      ]
     },
     "execution_count": 82,
     "metadata": {},
     "output_type": "execute_result"
    }
   ],
   "source": [
    "df.groupby('Continent_Code').describe().T"
   ]
  },
  {
   "cell_type": "code",
   "execution_count": 83,
   "id": "52e5347d",
   "metadata": {},
   "outputs": [
    {
     "data": {
      "text/html": [
       "<div>\n",
       "<style scoped>\n",
       "    .dataframe tbody tr th:only-of-type {\n",
       "        vertical-align: middle;\n",
       "    }\n",
       "\n",
       "    .dataframe tbody tr th {\n",
       "        vertical-align: top;\n",
       "    }\n",
       "\n",
       "    .dataframe thead tr th {\n",
       "        text-align: left;\n",
       "    }\n",
       "\n",
       "    .dataframe thead tr:last-of-type th {\n",
       "        text-align: right;\n",
       "    }\n",
       "</style>\n",
       "<table border=\"1\" class=\"dataframe\">\n",
       "  <thead>\n",
       "    <tr>\n",
       "      <th></th>\n",
       "      <th colspan=\"2\" halign=\"left\">internet_users_per_100</th>\n",
       "      <th colspan=\"2\" halign=\"left\">Math</th>\n",
       "      <th colspan=\"2\" halign=\"left\">Reading</th>\n",
       "      <th colspan=\"2\" halign=\"left\">Science</th>\n",
       "    </tr>\n",
       "    <tr>\n",
       "      <th></th>\n",
       "      <th>var</th>\n",
       "      <th>skew</th>\n",
       "      <th>var</th>\n",
       "      <th>skew</th>\n",
       "      <th>var</th>\n",
       "      <th>skew</th>\n",
       "      <th>var</th>\n",
       "      <th>skew</th>\n",
       "    </tr>\n",
       "    <tr>\n",
       "      <th>Continent_Code</th>\n",
       "      <th></th>\n",
       "      <th></th>\n",
       "      <th></th>\n",
       "      <th></th>\n",
       "      <th></th>\n",
       "      <th></th>\n",
       "      <th></th>\n",
       "      <th></th>\n",
       "    </tr>\n",
       "  </thead>\n",
       "  <tbody>\n",
       "    <tr>\n",
       "      <th>AF</th>\n",
       "      <td>53.249507</td>\n",
       "      <td>NaN</td>\n",
       "      <td>26.005030</td>\n",
       "      <td>NaN</td>\n",
       "      <td>62.677447</td>\n",
       "      <td>NaN</td>\n",
       "      <td>56.799679</td>\n",
       "      <td>NaN</td>\n",
       "    </tr>\n",
       "    <tr>\n",
       "      <th>AS</th>\n",
       "      <td>444.621918</td>\n",
       "      <td>-0.775229</td>\n",
       "      <td>4141.757822</td>\n",
       "      <td>0.144656</td>\n",
       "      <td>3254.584049</td>\n",
       "      <td>-0.099169</td>\n",
       "      <td>3211.644321</td>\n",
       "      <td>0.135810</td>\n",
       "    </tr>\n",
       "    <tr>\n",
       "      <th>EU</th>\n",
       "      <td>154.399841</td>\n",
       "      <td>-0.049351</td>\n",
       "      <td>1235.550805</td>\n",
       "      <td>-1.245494</td>\n",
       "      <td>1422.839540</td>\n",
       "      <td>-1.325443</td>\n",
       "      <td>1186.844969</td>\n",
       "      <td>-0.881399</td>\n",
       "    </tr>\n",
       "    <tr>\n",
       "      <th>OC</th>\n",
       "      <td>6.706475</td>\n",
       "      <td>NaN</td>\n",
       "      <td>0.880597</td>\n",
       "      <td>NaN</td>\n",
       "      <td>20.289087</td>\n",
       "      <td>NaN</td>\n",
       "      <td>5.476726</td>\n",
       "      <td>NaN</td>\n",
       "    </tr>\n",
       "    <tr>\n",
       "      <th>SA</th>\n",
       "      <td>95.500869</td>\n",
       "      <td>-1.469258</td>\n",
       "      <td>328.656783</td>\n",
       "      <td>-0.372256</td>\n",
       "      <td>388.471816</td>\n",
       "      <td>0.325499</td>\n",
       "      <td>341.152678</td>\n",
       "      <td>-0.207071</td>\n",
       "    </tr>\n",
       "  </tbody>\n",
       "</table>\n",
       "</div>"
      ],
      "text/plain": [
       "               internet_users_per_100                   Math            \\\n",
       "                                  var      skew          var      skew   \n",
       "Continent_Code                                                           \n",
       "AF                          53.249507       NaN    26.005030       NaN   \n",
       "AS                         444.621918 -0.775229  4141.757822  0.144656   \n",
       "EU                         154.399841 -0.049351  1235.550805 -1.245494   \n",
       "OC                           6.706475       NaN     0.880597       NaN   \n",
       "SA                          95.500869 -1.469258   328.656783 -0.372256   \n",
       "\n",
       "                    Reading                Science            \n",
       "                        var      skew          var      skew  \n",
       "Continent_Code                                                \n",
       "AF                62.677447       NaN    56.799679       NaN  \n",
       "AS              3254.584049 -0.099169  3211.644321  0.135810  \n",
       "EU              1422.839540 -1.325443  1186.844969 -0.881399  \n",
       "OC                20.289087       NaN     5.476726       NaN  \n",
       "SA               388.471816  0.325499   341.152678 -0.207071  "
      ]
     },
     "execution_count": 83,
     "metadata": {},
     "output_type": "execute_result"
    }
   ],
   "source": [
    "df.groupby('Continent_Code').agg(['var','skew'])"
   ]
  },
  {
   "cell_type": "code",
   "execution_count": 84,
   "id": "f98a7a79",
   "metadata": {},
   "outputs": [
    {
     "data": {
      "text/html": [
       "<div>\n",
       "<style scoped>\n",
       "    .dataframe tbody tr th:only-of-type {\n",
       "        vertical-align: middle;\n",
       "    }\n",
       "\n",
       "    .dataframe tbody tr th {\n",
       "        vertical-align: top;\n",
       "    }\n",
       "\n",
       "    .dataframe thead th {\n",
       "        text-align: right;\n",
       "    }\n",
       "</style>\n",
       "<table border=\"1\" class=\"dataframe\">\n",
       "  <thead>\n",
       "    <tr style=\"text-align: right;\">\n",
       "      <th></th>\n",
       "      <th></th>\n",
       "      <th>internet_users_per_100</th>\n",
       "      <th>Math</th>\n",
       "      <th>Reading</th>\n",
       "      <th>Science</th>\n",
       "    </tr>\n",
       "    <tr>\n",
       "      <th>Continent_Code</th>\n",
       "      <th></th>\n",
       "      <th></th>\n",
       "      <th></th>\n",
       "      <th></th>\n",
       "      <th></th>\n",
       "    </tr>\n",
       "  </thead>\n",
       "  <tbody>\n",
       "    <tr>\n",
       "      <th rowspan=\"4\" valign=\"top\">AF</th>\n",
       "      <th>internet_users_per_100</th>\n",
       "      <td>53.249507</td>\n",
       "      <td>37.212297</td>\n",
       "      <td>57.771474</td>\n",
       "      <td>54.995954</td>\n",
       "    </tr>\n",
       "    <tr>\n",
       "      <th>Math</th>\n",
       "      <td>37.212297</td>\n",
       "      <td>26.005030</td>\n",
       "      <td>40.372378</td>\n",
       "      <td>38.432764</td>\n",
       "    </tr>\n",
       "    <tr>\n",
       "      <th>Reading</th>\n",
       "      <td>57.771474</td>\n",
       "      <td>40.372378</td>\n",
       "      <td>62.677447</td>\n",
       "      <td>59.666229</td>\n",
       "    </tr>\n",
       "    <tr>\n",
       "      <th>Science</th>\n",
       "      <td>54.995954</td>\n",
       "      <td>38.432764</td>\n",
       "      <td>59.666229</td>\n",
       "      <td>56.799679</td>\n",
       "    </tr>\n",
       "    <tr>\n",
       "      <th rowspan=\"4\" valign=\"top\">AS</th>\n",
       "      <th>internet_users_per_100</th>\n",
       "      <td>444.621918</td>\n",
       "      <td>518.663444</td>\n",
       "      <td>431.690548</td>\n",
       "      <td>389.635713</td>\n",
       "    </tr>\n",
       "    <tr>\n",
       "      <th>Math</th>\n",
       "      <td>518.663444</td>\n",
       "      <td>4141.757822</td>\n",
       "      <td>3490.709603</td>\n",
       "      <td>3561.538792</td>\n",
       "    </tr>\n",
       "    <tr>\n",
       "      <th>Reading</th>\n",
       "      <td>431.690548</td>\n",
       "      <td>3490.709603</td>\n",
       "      <td>3254.584049</td>\n",
       "      <td>3128.233554</td>\n",
       "    </tr>\n",
       "    <tr>\n",
       "      <th>Science</th>\n",
       "      <td>389.635713</td>\n",
       "      <td>3561.538792</td>\n",
       "      <td>3128.233554</td>\n",
       "      <td>3211.644321</td>\n",
       "    </tr>\n",
       "    <tr>\n",
       "      <th rowspan=\"4\" valign=\"top\">EU</th>\n",
       "      <th>internet_users_per_100</th>\n",
       "      <td>154.399841</td>\n",
       "      <td>279.579404</td>\n",
       "      <td>277.145683</td>\n",
       "      <td>266.198816</td>\n",
       "    </tr>\n",
       "    <tr>\n",
       "      <th>Math</th>\n",
       "      <td>279.579404</td>\n",
       "      <td>1235.550805</td>\n",
       "      <td>1254.387958</td>\n",
       "      <td>1169.329769</td>\n",
       "    </tr>\n",
       "    <tr>\n",
       "      <th>Reading</th>\n",
       "      <td>277.145683</td>\n",
       "      <td>1254.387958</td>\n",
       "      <td>1422.839540</td>\n",
       "      <td>1244.267848</td>\n",
       "    </tr>\n",
       "    <tr>\n",
       "      <th>Science</th>\n",
       "      <td>266.198816</td>\n",
       "      <td>1169.329769</td>\n",
       "      <td>1244.267848</td>\n",
       "      <td>1186.844969</td>\n",
       "    </tr>\n",
       "    <tr>\n",
       "      <th rowspan=\"4\" valign=\"top\">OC</th>\n",
       "      <th>internet_users_per_100</th>\n",
       "      <td>6.706475</td>\n",
       "      <td>2.430165</td>\n",
       "      <td>11.664830</td>\n",
       "      <td>6.060489</td>\n",
       "    </tr>\n",
       "    <tr>\n",
       "      <th>Math</th>\n",
       "      <td>2.430165</td>\n",
       "      <td>0.880597</td>\n",
       "      <td>4.226880</td>\n",
       "      <td>2.196085</td>\n",
       "    </tr>\n",
       "    <tr>\n",
       "      <th>Reading</th>\n",
       "      <td>11.664830</td>\n",
       "      <td>4.226880</td>\n",
       "      <td>20.289087</td>\n",
       "      <td>10.541241</td>\n",
       "    </tr>\n",
       "    <tr>\n",
       "      <th>Science</th>\n",
       "      <td>6.060489</td>\n",
       "      <td>2.196085</td>\n",
       "      <td>10.541241</td>\n",
       "      <td>5.476726</td>\n",
       "    </tr>\n",
       "    <tr>\n",
       "      <th rowspan=\"4\" valign=\"top\">SA</th>\n",
       "      <th>internet_users_per_100</th>\n",
       "      <td>95.500869</td>\n",
       "      <td>124.177095</td>\n",
       "      <td>129.078929</td>\n",
       "      <td>136.628848</td>\n",
       "    </tr>\n",
       "    <tr>\n",
       "      <th>Math</th>\n",
       "      <td>124.177095</td>\n",
       "      <td>328.656783</td>\n",
       "      <td>296.457279</td>\n",
       "      <td>307.064057</td>\n",
       "    </tr>\n",
       "    <tr>\n",
       "      <th>Reading</th>\n",
       "      <td>129.078929</td>\n",
       "      <td>296.457279</td>\n",
       "      <td>388.471816</td>\n",
       "      <td>345.683195</td>\n",
       "    </tr>\n",
       "    <tr>\n",
       "      <th>Science</th>\n",
       "      <td>136.628848</td>\n",
       "      <td>307.064057</td>\n",
       "      <td>345.683195</td>\n",
       "      <td>341.152678</td>\n",
       "    </tr>\n",
       "  </tbody>\n",
       "</table>\n",
       "</div>"
      ],
      "text/plain": [
       "                                       internet_users_per_100         Math  \\\n",
       "Continent_Code                                                               \n",
       "AF             internet_users_per_100               53.249507    37.212297   \n",
       "               Math                                 37.212297    26.005030   \n",
       "               Reading                              57.771474    40.372378   \n",
       "               Science                              54.995954    38.432764   \n",
       "AS             internet_users_per_100              444.621918   518.663444   \n",
       "               Math                                518.663444  4141.757822   \n",
       "               Reading                             431.690548  3490.709603   \n",
       "               Science                             389.635713  3561.538792   \n",
       "EU             internet_users_per_100              154.399841   279.579404   \n",
       "               Math                                279.579404  1235.550805   \n",
       "               Reading                             277.145683  1254.387958   \n",
       "               Science                             266.198816  1169.329769   \n",
       "OC             internet_users_per_100                6.706475     2.430165   \n",
       "               Math                                  2.430165     0.880597   \n",
       "               Reading                              11.664830     4.226880   \n",
       "               Science                               6.060489     2.196085   \n",
       "SA             internet_users_per_100               95.500869   124.177095   \n",
       "               Math                                124.177095   328.656783   \n",
       "               Reading                             129.078929   296.457279   \n",
       "               Science                             136.628848   307.064057   \n",
       "\n",
       "                                           Reading      Science  \n",
       "Continent_Code                                                   \n",
       "AF             internet_users_per_100    57.771474    54.995954  \n",
       "               Math                      40.372378    38.432764  \n",
       "               Reading                   62.677447    59.666229  \n",
       "               Science                   59.666229    56.799679  \n",
       "AS             internet_users_per_100   431.690548   389.635713  \n",
       "               Math                    3490.709603  3561.538792  \n",
       "               Reading                 3254.584049  3128.233554  \n",
       "               Science                 3128.233554  3211.644321  \n",
       "EU             internet_users_per_100   277.145683   266.198816  \n",
       "               Math                    1254.387958  1169.329769  \n",
       "               Reading                 1422.839540  1244.267848  \n",
       "               Science                 1244.267848  1186.844969  \n",
       "OC             internet_users_per_100    11.664830     6.060489  \n",
       "               Math                       4.226880     2.196085  \n",
       "               Reading                   20.289087    10.541241  \n",
       "               Science                   10.541241     5.476726  \n",
       "SA             internet_users_per_100   129.078929   136.628848  \n",
       "               Math                     296.457279   307.064057  \n",
       "               Reading                  388.471816   345.683195  \n",
       "               Science                  345.683195   341.152678  "
      ]
     },
     "execution_count": 84,
     "metadata": {},
     "output_type": "execute_result"
    }
   ],
   "source": [
    "df.groupby('Continent_Code').cov()"
   ]
  },
  {
   "cell_type": "markdown",
   "id": "96dd76d9",
   "metadata": {},
   "source": [
    "### Determine whether there is any difference (on the average) for the math scores among European (EU) and Asian (AS) countries (assume normality and equal variances). Draw side-by-side box plots."
   ]
  },
  {
   "cell_type": "code",
   "execution_count": 85,
   "id": "073d8f11",
   "metadata": {},
   "outputs": [
    {
     "data": {
      "text/plain": [
       "0"
      ]
     },
     "execution_count": 85,
     "metadata": {},
     "output_type": "execute_result"
    }
   ],
   "source": [
    "df[df.Continent_Code == 'EU'][\"Math\"].isnull().sum()"
   ]
  },
  {
   "cell_type": "code",
   "execution_count": 86,
   "id": "cab82546",
   "metadata": {},
   "outputs": [
    {
     "data": {
      "text/plain": [
       "0"
      ]
     },
     "execution_count": 86,
     "metadata": {},
     "output_type": "execute_result"
    }
   ],
   "source": [
    "df[df.Continent_Code == 'AS']['Math'].isna().sum()"
   ]
  },
  {
   "cell_type": "code",
   "execution_count": 87,
   "id": "798ac73e",
   "metadata": {},
   "outputs": [
    {
     "name": "stdout",
     "output_type": "stream",
     "text": [
      "477.98144864864867\n",
      "466.2166470588236\n"
     ]
    }
   ],
   "source": [
    "#Independent 2 groups(Independent t-Test)\n",
    "print(df[df.Continent_Code == 'EU'][\"Math\"].mean())\n",
    "print(df[df.Continent_Code == 'AS'][\"Math\"].mean())"
   ]
  },
  {
   "cell_type": "markdown",
   "id": "6dbd4e80",
   "metadata": {},
   "source": [
    "- H0 : M1 =  M2\n",
    "- H1 : M1 != M2"
   ]
  },
  {
   "cell_type": "code",
   "execution_count": 88,
   "id": "63db9ab1",
   "metadata": {},
   "outputs": [
    {
     "data": {
      "text/plain": [
       "Ttest_indResult(statistic=0.870055317967983, pvalue=0.38826888111307345)"
      ]
     },
     "execution_count": 88,
     "metadata": {},
     "output_type": "execute_result"
    }
   ],
   "source": [
    "indTest = stats.ttest_ind(\n",
    "    df[df.Continent_Code == 'EU'][\"Math\"], \n",
    "    df[df.Continent_Code == 'AS'][\"Math\"], \n",
    "    equal_var=True, alternative='two-sided')\n",
    "indTest"
   ]
  },
  {
   "cell_type": "code",
   "execution_count": 89,
   "id": "db28db7e",
   "metadata": {},
   "outputs": [
    {
     "name": "stdout",
     "output_type": "stream",
     "text": [
      "fail to reject the null\n"
     ]
    }
   ],
   "source": [
    "alpha = 0.05\n",
    "\n",
    "if indTest.pvalue < alpha:\n",
    "    print(\"Reject the null\")\n",
    "else:\n",
    "    print(\"fail to reject the null\")"
   ]
  },
  {
   "cell_type": "markdown",
   "id": "69e33c63",
   "metadata": {},
   "source": [
    "- Draw side-by-side box plots"
   ]
  },
  {
   "cell_type": "code",
   "execution_count": 90,
   "id": "d921ebd0",
   "metadata": {},
   "outputs": [
    {
     "data": {
      "text/plain": [
       "Text(0.5, 1.0, 'Avg Math Scores Among Asian countries')"
      ]
     },
     "execution_count": 90,
     "metadata": {},
     "output_type": "execute_result"
    },
    {
     "data": {
      "image/png": "[encoded data removed]",
      "text/plain": [
       "<Figure size 864x432 with 2 Axes>"
      ]
     },
     "metadata": {
      "needs_background": "light"
     },
     "output_type": "display_data"
    }
   ],
   "source": [
    "fig, ax = plt.subplots(nrows = 1, ncols=2, figsize=(12,6))\n",
    "\n",
    "sns.boxplot(\n",
    "    y=df[df.Continent_Code == 'EU'][\"Math\"], \n",
    "    notch=True,               \n",
    "    showmeans=True, meanline=True,\n",
    "    meanprops=dict(lw=2, color='k', marker='D', mfc='g', mec='g'),\n",
    "    medianprops={'lw': 2, 'color': 'm'},\n",
    "    flierprops=dict(marker='o', mfc='r'),\n",
    "    boxprops=dict(color='Orange'),\n",
    "    ax=ax[0]\n",
    ")\n",
    "\n",
    "sns.boxplot(\n",
    "    y=df[df.Continent_Code == 'AS'][\"Math\"], \n",
    "    showmeans=True, meanline=True,\n",
    "    meanprops=dict(lw=2, color='k', marker='D', mfc='g', mec='g'),\n",
    "    medianprops={'lw': 2, 'color': 'm'},\n",
    "    flierprops=dict(marker='o', mfc='r'),\n",
    "    boxprops=dict(color='skyBlue'),\n",
    "    notch=True,              \n",
    "    ax=ax[1]\n",
    ")\n",
    "\n",
    "ax[0].set_title('Avg Math Scores Among European countries')\n",
    "ax[1].set_title('Avg Math Scores Among Asian countries')"
   ]
  },
  {
   "cell_type": "code",
   "execution_count": 91,
   "id": "94cba9a5",
   "metadata": {},
   "outputs": [
    {
     "data": {
      "image/png": "[encoded data removed]",
      "text/plain": [
       "<Figure size 720x432 with 1 Axes>"
      ]
     },
     "metadata": {
      "needs_background": "light"
     },
     "output_type": "display_data"
    }
   ],
   "source": [
    "fig, ax = plt.subplots(figsize=(10,6))\n",
    "\n",
    "ax.boxplot(\n",
    "        (df[df.Continent_Code == 'EU'][\"Math\"], df[df.Continent_Code == 'AS'][\"Math\"]),              \n",
    "        showmeans=True, meanline=True,\n",
    "        meanprops=dict(lw=2, color='k', marker='D', mfc='g', mec='g'),\n",
    "        medianprops={'lw': 2, 'color': 'm'},\n",
    "        flierprops=dict(marker='o', mfc='r'),\n",
    "        boxprops=dict(facecolor=('lightblue'), color='m'),\n",
    "        whiskerprops=dict(lw=2, color='m'),\n",
    "        capprops=dict(ls='-', lw=2, color='m'),\n",
    "        notch=True, vert=True, patch_artist=True, \n",
    "        labels=('Avg Math Scores Among European countries', 'Avg Math Scores Among Asian countries')  \n",
    ")\n",
    "\n",
    "# change to colors\n",
    "for patch,color in zip(ax.patches, ['Orange','skyBlue']):\n",
    "    patch.set_facecolor(color)\n",
    "\n",
    "plt.show()"
   ]
  },
  {
   "cell_type": "code",
   "execution_count": 101,
   "id": "5b9de835",
   "metadata": {},
   "outputs": [
    {
     "data": {
      "text/html": [
       "<div>\n",
       "<style scoped>\n",
       "    .dataframe tbody tr th:only-of-type {\n",
       "        vertical-align: middle;\n",
       "    }\n",
       "\n",
       "    .dataframe tbody tr th {\n",
       "        vertical-align: top;\n",
       "    }\n",
       "\n",
       "    .dataframe thead th {\n",
       "        text-align: right;\n",
       "    }\n",
       "</style>\n",
       "<table border=\"1\" class=\"dataframe\">\n",
       "  <thead>\n",
       "    <tr style=\"text-align: right;\">\n",
       "      <th></th>\n",
       "      <th>Math</th>\n",
       "      <th>Math</th>\n",
       "    </tr>\n",
       "  </thead>\n",
       "  <tbody>\n",
       "    <tr>\n",
       "      <th>0</th>\n",
       "      <td>413.1570</td>\n",
       "      <td>427.4827</td>\n",
       "    </tr>\n",
       "    <tr>\n",
       "      <th>1</th>\n",
       "      <td>496.7423</td>\n",
       "      <td>531.2961</td>\n",
       "    </tr>\n",
       "    <tr>\n",
       "      <th>2</th>\n",
       "      <td>506.9844</td>\n",
       "      <td>403.8332</td>\n",
       "    </tr>\n",
       "    <tr>\n",
       "      <th>3</th>\n",
       "      <td>441.1899</td>\n",
       "      <td>547.9310</td>\n",
       "    </tr>\n",
       "    <tr>\n",
       "      <th>4</th>\n",
       "      <td>521.2506</td>\n",
       "      <td>386.1096</td>\n",
       "    </tr>\n",
       "    <tr>\n",
       "      <th>5</th>\n",
       "      <td>437.1443</td>\n",
       "      <td>469.6695</td>\n",
       "    </tr>\n",
       "    <tr>\n",
       "      <th>6</th>\n",
       "      <td>492.3254</td>\n",
       "      <td>380.2590</td>\n",
       "    </tr>\n",
       "    <tr>\n",
       "      <th>7</th>\n",
       "      <td>505.9713</td>\n",
       "      <td>532.4399</td>\n",
       "    </tr>\n",
       "    <tr>\n",
       "      <th>8</th>\n",
       "      <td>511.0876</td>\n",
       "      <td>459.8160</td>\n",
       "    </tr>\n",
       "    <tr>\n",
       "      <th>9</th>\n",
       "      <td>485.8432</td>\n",
       "      <td>524.1062</td>\n",
       "    </tr>\n",
       "    <tr>\n",
       "      <th>10</th>\n",
       "      <td>519.5291</td>\n",
       "      <td>396.2497</td>\n",
       "    </tr>\n",
       "    <tr>\n",
       "      <th>11</th>\n",
       "      <td>511.0769</td>\n",
       "      <td>543.8078</td>\n",
       "    </tr>\n",
       "    <tr>\n",
       "      <th>12</th>\n",
       "      <td>492.9204</td>\n",
       "      <td>446.1098</td>\n",
       "    </tr>\n",
       "    <tr>\n",
       "      <th>13</th>\n",
       "      <td>492.4785</td>\n",
       "      <td>402.4007</td>\n",
       "    </tr>\n",
       "    <tr>\n",
       "      <th>14</th>\n",
       "      <td>453.6299</td>\n",
       "      <td>564.1897</td>\n",
       "    </tr>\n",
       "    <tr>\n",
       "      <th>15</th>\n",
       "      <td>464.0401</td>\n",
       "      <td>415.4638</td>\n",
       "    </tr>\n",
       "    <tr>\n",
       "      <th>16</th>\n",
       "      <td>476.8309</td>\n",
       "      <td>494.5183</td>\n",
       "    </tr>\n",
       "    <tr>\n",
       "      <th>17</th>\n",
       "      <td>503.7220</td>\n",
       "      <td>NaN</td>\n",
       "    </tr>\n",
       "    <tr>\n",
       "      <th>18</th>\n",
       "      <td>488.0332</td>\n",
       "      <td>NaN</td>\n",
       "    </tr>\n",
       "    <tr>\n",
       "      <th>19</th>\n",
       "      <td>489.7287</td>\n",
       "      <td>NaN</td>\n",
       "    </tr>\n",
       "    <tr>\n",
       "      <th>20</th>\n",
       "      <td>478.3834</td>\n",
       "      <td>NaN</td>\n",
       "    </tr>\n",
       "    <tr>\n",
       "      <th>21</th>\n",
       "      <td>485.7706</td>\n",
       "      <td>NaN</td>\n",
       "    </tr>\n",
       "    <tr>\n",
       "      <th>22</th>\n",
       "      <td>482.3051</td>\n",
       "      <td>NaN</td>\n",
       "    </tr>\n",
       "    <tr>\n",
       "      <th>23</th>\n",
       "      <td>419.6635</td>\n",
       "      <td>NaN</td>\n",
       "    </tr>\n",
       "    <tr>\n",
       "      <th>24</th>\n",
       "      <td>371.3114</td>\n",
       "      <td>NaN</td>\n",
       "    </tr>\n",
       "    <tr>\n",
       "      <th>25</th>\n",
       "      <td>478.6448</td>\n",
       "      <td>NaN</td>\n",
       "    </tr>\n",
       "    <tr>\n",
       "      <th>26</th>\n",
       "      <td>417.9341</td>\n",
       "      <td>NaN</td>\n",
       "    </tr>\n",
       "    <tr>\n",
       "      <th>27</th>\n",
       "      <td>512.2528</td>\n",
       "      <td>NaN</td>\n",
       "    </tr>\n",
       "    <tr>\n",
       "      <th>28</th>\n",
       "      <td>501.7298</td>\n",
       "      <td>NaN</td>\n",
       "    </tr>\n",
       "    <tr>\n",
       "      <th>29</th>\n",
       "      <td>504.4693</td>\n",
       "      <td>NaN</td>\n",
       "    </tr>\n",
       "    <tr>\n",
       "      <th>30</th>\n",
       "      <td>491.6270</td>\n",
       "      <td>NaN</td>\n",
       "    </tr>\n",
       "    <tr>\n",
       "      <th>31</th>\n",
       "      <td>443.9543</td>\n",
       "      <td>NaN</td>\n",
       "    </tr>\n",
       "    <tr>\n",
       "      <th>32</th>\n",
       "      <td>494.0600</td>\n",
       "      <td>NaN</td>\n",
       "    </tr>\n",
       "    <tr>\n",
       "      <th>33</th>\n",
       "      <td>475.2301</td>\n",
       "      <td>NaN</td>\n",
       "    </tr>\n",
       "    <tr>\n",
       "      <th>34</th>\n",
       "      <td>509.9196</td>\n",
       "      <td>NaN</td>\n",
       "    </tr>\n",
       "    <tr>\n",
       "      <th>35</th>\n",
       "      <td>493.9181</td>\n",
       "      <td>NaN</td>\n",
       "    </tr>\n",
       "    <tr>\n",
       "      <th>36</th>\n",
       "      <td>420.4540</td>\n",
       "      <td>NaN</td>\n",
       "    </tr>\n",
       "  </tbody>\n",
       "</table>\n",
       "</div>"
      ],
      "text/plain": [
       "        Math      Math\n",
       "0   413.1570  427.4827\n",
       "1   496.7423  531.2961\n",
       "2   506.9844  403.8332\n",
       "3   441.1899  547.9310\n",
       "4   521.2506  386.1096\n",
       "5   437.1443  469.6695\n",
       "6   492.3254  380.2590\n",
       "7   505.9713  532.4399\n",
       "8   511.0876  459.8160\n",
       "9   485.8432  524.1062\n",
       "10  519.5291  396.2497\n",
       "11  511.0769  543.8078\n",
       "12  492.9204  446.1098\n",
       "13  492.4785  402.4007\n",
       "14  453.6299  564.1897\n",
       "15  464.0401  415.4638\n",
       "16  476.8309  494.5183\n",
       "17  503.7220       NaN\n",
       "18  488.0332       NaN\n",
       "19  489.7287       NaN\n",
       "20  478.3834       NaN\n",
       "21  485.7706       NaN\n",
       "22  482.3051       NaN\n",
       "23  419.6635       NaN\n",
       "24  371.3114       NaN\n",
       "25  478.6448       NaN\n",
       "26  417.9341       NaN\n",
       "27  512.2528       NaN\n",
       "28  501.7298       NaN\n",
       "29  504.4693       NaN\n",
       "30  491.6270       NaN\n",
       "31  443.9543       NaN\n",
       "32  494.0600       NaN\n",
       "33  475.2301       NaN\n",
       "34  509.9196       NaN\n",
       "35  493.9181       NaN\n",
       "36  420.4540       NaN"
      ]
     },
     "execution_count": 101,
     "metadata": {},
     "output_type": "execute_result"
    }
   ],
   "source": [
    "df_concat = pd.concat(\n",
    "    [df[df.Continent_Code == 'EU'][\"Math\"].reset_index(drop=True), \n",
    "     df[df.Continent_Code == 'AS'][\"Math\"].reset_index(drop=True)], \n",
    "    axis=1)\n",
    "df_concat"
   ]
  },
  {
   "cell_type": "code",
   "execution_count": 123,
   "id": "c908ef5d",
   "metadata": {},
   "outputs": [
    {
     "data": {
      "image/png": "[encoded data removed]",
      "text/plain": [
       "<Figure size 1440x720 with 2 Axes>"
      ]
     },
     "metadata": {
      "needs_background": "light"
     },
     "output_type": "display_data"
    }
   ],
   "source": [
    "fig, axs = plt.subplots(1, len(df_concat.columns), figsize=(20,10))\n",
    "\n",
    "labels = ('Avg Math Scores Among European countries', 'Avg Math Scores Among Asian countries')\n",
    "colors = ['Orange','skyBlue']\n",
    "\n",
    "for i, ax in enumerate(axs.flat):\n",
    "    ax.boxplot(\n",
    "        df_concat.iloc[:,i].dropna(), \n",
    "        showmeans=True, meanline=True,\n",
    "        meanprops=dict(lw=2, color='k', marker='D', mfc='g', mec='g'),\n",
    "        medianprops={'lw': 2, 'color': 'm'},\n",
    "        flierprops=dict(marker='o', mfc='r'),\n",
    "        boxprops=dict(facecolor=colors[i], color='m'),\n",
    "        whiskerprops=dict(lw=2, color='m'),\n",
    "        capprops=dict(ls='-', lw=2, color='m'),\n",
    "        notch=True, vert=True, patch_artist=True\n",
    "    )\n",
    "    ax.set_title(labels[i], fontsize=20, fontweight='bold')\n",
    "    ax.tick_params(axis='y', labelsize=16)\n",
    "    \n",
    "    #Checking if column names are equal to columns we expect to be logarithmic\n",
    "    if df_concat.columns[i] == 'RDEP' or df.columns[i] == 'RMED':\n",
    "        ax.semilogy()\n",
    "    \n",
    "plt.tight_layout()"
   ]
  },
  {
   "cell_type": "markdown",
   "id": "b84a6a21",
   "metadata": {},
   "source": [
    "## EXERCISE 4\n",
    "A gym operator organized a 2-month exercise and diet program for 15 customers suffering from their excess weight. To evaluate whether this diet program was effective, he measured the customers' starting and ending weights and recorded them in the computer. Did the exercise and diet program have an impact on customers' weight loss? Use an α = .01 level test. [Weight Dataset](https://docs.google.com/spreadsheets/d/13hRZvtwno5pPULilCLB6EaQdDlkXvNkbVbfHzxJBVRU/edit#gid=0)\n",
    "\n",
    "CHECK: statistic=2.67808348404993, pvalue=0.00900646517506627"
   ]
  },
  {
   "cell_type": "code",
   "execution_count": 30,
   "id": "b6c0f88e",
   "metadata": {},
   "outputs": [],
   "source": [
    "starting = pd.Series([76, 81, 86, 71, 88, 78, 76, 81, 79, 77, 83, 77, 79, 81, 83])\n",
    "ending   = pd.Series([72, 82, 84, 71, 83, 74, 70, 80, 78, 79, 80, 76, 77, 83, 82])"
   ]
  },
  {
   "cell_type": "code",
   "execution_count": 31,
   "id": "f2b9f45d",
   "metadata": {},
   "outputs": [
    {
     "data": {
      "text/plain": [
       "Ttest_relResult(statistic=2.6780834840499255, pvalue=0.00900646517506626)"
      ]
     },
     "execution_count": 31,
     "metadata": {},
     "output_type": "execute_result"
    }
   ],
   "source": [
    "depTest = stats.ttest_rel(starting, ending, alternative='greater')\n",
    "depTest"
   ]
  },
  {
   "cell_type": "code",
   "execution_count": 32,
   "id": "bc0d170f",
   "metadata": {},
   "outputs": [
    {
     "name": "stdout",
     "output_type": "stream",
     "text": [
      "Reject the null\n"
     ]
    }
   ],
   "source": [
    "alpha = 0.01\n",
    "\n",
    "if depTest.pvalue < alpha:\n",
    "    print(\"Reject the null\")\n",
    "else:\n",
    "    print(\"fail to reject the null\")"
   ]
  }
 ],
 "metadata": {
  "kernelspec": {
   "display_name": "Python 3 (ipykernel)",
   "language": "python",
   "name": "python3"
  },
  "language_info": {
   "codemirror_mode": {
    "name": "ipython",
    "version": 3
   },
   "file_extension": ".py",
   "mimetype": "text/x-python",
   "name": "python",
   "nbconvert_exporter": "python",
   "pygments_lexer": "ipython3",
   "version": "3.9.12"
  },
  "nbTranslate": {
   "displayLangs": [
    "tr"
   ],
   "hotkey": "alt-t",
   "langInMainMenu": true,
   "sourceLang": "en",
   "targetLang": "tr",
   "useGoogleTranslate": true
  },
  "toc": {
   "base_numbering": 1,
   "nav_menu": {},
   "number_sections": true,
   "sideBar": true,
   "skip_h1_title": false,
   "title_cell": "Table of Contents",
   "title_sidebar": "Contents",
   "toc_cell": false,
   "toc_position": {},
   "toc_section_display": true,
   "toc_window_display": false
  }
 },
 "nbformat": 4,
 "nbformat_minor": 5
}
